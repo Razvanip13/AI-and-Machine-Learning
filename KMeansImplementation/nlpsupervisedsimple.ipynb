{
 "metadata": {
  "language_info": {
   "codemirror_mode": {
    "name": "ipython",
    "version": 3
   },
   "file_extension": ".py",
   "mimetype": "text/x-python",
   "name": "python",
   "nbconvert_exporter": "python",
   "pygments_lexer": "ipython3",
   "version": "3.9.5"
  },
  "orig_nbformat": 2,
  "kernelspec": {
   "name": "python395jvsc74a57bd0afe63f8c2ad5156b01cb7ee1d2b9911f02fc2046f8456cd4e9e5e6fe6e9acd40",
   "display_name": "Python 3.9.5 64-bit (windows store)"
  },
  "metadata": {
   "interpreter": {
    "hash": "afe63f8c2ad5156b01cb7ee1d2b9911f02fc2046f8456cd4e9e5e6fe6e9acd40"
   }
  }
 },
 "nbformat": 4,
 "nbformat_minor": 2,
 "cells": [
  {
   "source": [
    "# Simple supervised NLP"
   ],
   "cell_type": "markdown",
   "metadata": {}
  },
  {
   "source": [
    "## Importing the libraries"
   ],
   "cell_type": "markdown",
   "metadata": {}
  },
  {
   "cell_type": "code",
   "execution_count": 1,
   "metadata": {},
   "outputs": [],
   "source": [
    "import numpy as np\n",
    "import matplotlib.pyplot as plt\n",
    "import pandas as pd"
   ]
  },
  {
   "source": [
    "## Importing the Dataset"
   ],
   "cell_type": "markdown",
   "metadata": {}
  },
  {
   "cell_type": "code",
   "execution_count": 2,
   "metadata": {},
   "outputs": [],
   "source": [
    "dataset = pd.read_csv(\"reviews_mixed.csv\")"
   ]
  },
  {
   "source": [
    "## Cleaning the text"
   ],
   "cell_type": "markdown",
   "metadata": {}
  },
  {
   "cell_type": "code",
   "execution_count": 3,
   "metadata": {},
   "outputs": [
    {
     "output_type": "stream",
     "name": "stderr",
     "text": [
      "[nltk_data] Downloading package stopwords to\n[nltk_data]     C:\\Users\\razva\\AppData\\Roaming\\nltk_data...\n[nltk_data]   Package stopwords is already up-to-date!\n[nltk_data] Downloading package wordnet to\n[nltk_data]     C:\\Users\\razva\\AppData\\Roaming\\nltk_data...\n[nltk_data]   Package wordnet is already up-to-date!\n"
     ]
    },
    {
     "output_type": "execute_result",
     "data": {
      "text/plain": [
       "True"
      ]
     },
     "metadata": {},
     "execution_count": 3
    }
   ],
   "source": [
    "import re\n",
    "import nltk \n",
    "from nltk.corpus import stopwords \n",
    "from nltk.stem.porter import PorterStemmer \n",
    "from nltk.stem import WordNetLemmatizer\n",
    "\n",
    "nltk.download('stopwords')\n",
    "nltk.download('wordnet')"
   ]
  },
  {
   "cell_type": "code",
   "execution_count": 4,
   "metadata": {},
   "outputs": [
    {
     "output_type": "stream",
     "name": "stdout",
     "text": [
      "207\n"
     ]
    }
   ],
   "source": [
    "print(len(dataset))"
   ]
  },
  {
   "cell_type": "code",
   "execution_count": 5,
   "metadata": {},
   "outputs": [],
   "source": [
    "corpus = []\n",
    "\n",
    "for i in range(207):\n",
    "  review = re.sub('[^a-zA-Z]', ' ', dataset['Text'][i])  \n",
    "  review = review.lower()\n",
    "  review = review.split()\n",
    "\n",
    "  ps = PorterStemmer()\n",
    "  lemmatizer = WordNetLemmatizer()\n",
    "  my_stopwords = stopwords.words('english')\n",
    "  my_stopwords.remove('not')\n",
    "#   review = [ps.stem(word) for word in review if not word in set(my_stopwords)]\n",
    "  # review = [lemmatizer.lemmatize(word) for word in review if not word in set(my_stopwords)]\n",
    "  review = [word for word in review if not word in set(my_stopwords)]\n",
    "  review = ' '.join(review)\n",
    "  corpus.append(review)"
   ]
  },
  {
   "cell_type": "code",
   "execution_count": 19,
   "metadata": {},
   "outputs": [
    {
     "output_type": "stream",
     "name": "stdout",
     "text": [
      "['room extremely small practically bed', 'room safe not work', 'mattress comfortable', 'uncomfortable thin mattress plastic cover rustle every time move', 'bathroom room', 'bed soooo comfy', 'someone must smoking room next door', 'bed comfortable', 'spacious room quiet comfortable', 'people bedroom sofa bed bit unconfortable', 'light common room dim', 'air conditioning working fine', 'type like let water run bit getting wet take minute figure make hot gonna get wet', 'window single glazed heat could escape although fair outside', 'terrible small cubbyhole marketed room', 'corridor filthy room filthy electrical cable room not safe whole building smelly shower repulsive', 'wall seem sound insulation', 'gym small basic', 'mattress springy uncomfortable', 'light comfy bed unbeatable', 'show wear tear', 'think didnt work well air tv open window', 'microwave needed', 'room cleaned bed made', 'room cable tv safe iron hairdryer free coffee tea downstairs area', 'heat room fluctuated time felt little draft last night fan really loud', 'name', 'building renovation', 'water pressure not strong shower', 'room small open suitcase', 'elevator might challenge people', 'pay extra room tiny', 'hip clean', 'comfortable bed selection pillow', 'tv not working', 'walk story', 'hallway room stale feel clean', 'building construction across road extremely noisy throughout day', 'bathtub not clean', 'hot water abundant c window unit ice cold excellent', 'access fitness facility especially pool real value added', 'barely room anything else sleep', 'lift bit pain card access', 'could used little counter room bath think restaurant looked inviting compared rest hotel', 'bed highly uncomfortable although engineer fixed', 'memory foam mattress agreed best night sleep hotel ever', 'toilet paper replaced everyday', 'extra bed not greatest futon sleeper couch', 'room extremely cramped', 'shower cap n sanitary bag not available room', 'freezing cold room night stayed', 'outside seating lovely', 'heating unbelievably noisy night', 'bed smell', 'bathroom area large would nice bathtub', 'shared restroom not support many room many people', 'stiff feel place amenity', 'lovely room bed comfortable', 'every minute door slamming light', 'time mostly quiet apart door slamming guest', 'top window covered dirty blind', 'detest glass door shower tub', 'expected clean towel room cleaned every day', 'barely degree warmer outside winter rug wear shoe use toilet', 'ac terrible', 'plug outlet surge protector', 'give idea shutter window not working not go neither hanging one side', 'phone room not working', 'elevator slow long line', 'location anda facility', 'also garbage kitchen isntant coffee package left previous customer', 'amazing facility', 'one elevator', 'room spacious', 'bathroom dirty', 'roof terrace great', 'tea coffee making facility room', 'room aircon earplug slept soundly', 'also bright bathroom light turned light whole hotel room shining thru frosted glass panel', 'bed super comfy', 'bathroom extra small', 'room cosy great temperature control', 'facility clean', 'mind stain bed sheet cockroach shared bathroom', 'bathroom functioned k', 'poor tv picture channel selection', 'elevator', 'essential gym allow workout', 'room quite small price especially use travel cot', 'room not inviting', 'wifi connected', 'everything clean', 'window cleaned year ever', 'shower could renovation seem clean', 'cold water came', 'persian decor half hearted take length turkish bunting lantern glass roofed bar cover whole area', 'toilet ran jiggled handle', 'bed terrible not comfortable', 'mattress linen great', 'wardrobe space luggage towel change wall not sound proof thus noisy', 'elevator fast never wait long one th floor city noise not bothering whole day walking around sleeping execellent', 'thing need', 'bed not full size cm long bed smaller', 'spartan', 'room extremely small', 'wall mean oher guest loud hr', 'nice rooftop terrace gym', 'wallpaper peeking place', 'insufficient hard reach plug charge device', 'mouse room wifi cleaning service day elevator door outside hotel lock anymore main avenue construction one room pretty loud', 'bath shower requested queen size bed', 'called received shipment clean towel', 'room clean', 'mind small space would liked bit style', 'king room spacious plenty room spread unpack especially awesome extended stay', 'hotel clean character', 'hvac vent', 'place luggage floor', 'unclean bathroom', 'negative old loud air conditioning room', 'dust tissue bed', 'bed comfy room spacious', 'air conditioning', 'bath shower poor condition hold water', 'told would two double bed', 'bathroom shower good lighting well', 'room small', 'room left garbage whomever stayed prior', 'floor not clean', 'comfortable bed', 'area improvement would fitness center', 'pool best', 'good soundproofing window great showerroom excellent hot shower good air con free wifi coffee maker', 'star qualiity towel linen', 'channel four werent english', 'much potent pleasant febreeze scent', 'small television flat screen old tube well room not amenity usually book double room thus far come window bit spacious single room much smaller yet comfortable', 'room large family adult', 'room pretty soulless although great view', 'room clean', 'room immaculate smelled fresh clean', 'quiet place', 'room nice size big enough friend huge suitcase fit floor u still move around', 'hotel clean', 'kettle use coffee maker boil water tea tricky rinsed many time', 'room spotless classy', 'front entrance could use curb appeal', 'bathroom way retro shower poor hand shower poor water pressure way narrow also plastic curtain dollar hotel room way nasty', 'extra small room', 'poor bed quality noisy would would window', 'bathroom frosted glass wall not private', 'room cold adjust temperature also heating work hour morning', 'loud construction noise front window', 'room interior traffic noise', 'room noisy cold', 'air con noisy leave long', 'still easy reach', 'front door work pry open', 'clean tidy', 'bed really terrible especially blanket heavy terrible terrible quality', 'bathroom sink tap leaked aircon work properly', 'like mouse room', 'decent room', 'loved elegant art deco ambience', 'broken tile shower', 'shower turned cold could still hotter would usually', 'bed hard sheet rough', 'loved coffee shop underneath closed every night get late night coffee wanted', 'dimly lit', 'towel hole', 'hotel advertised ac one amenity booking com description', 'bed super comfortable bathtub jet awesome', 'actually enjoyed small room knew ahead time wanted try something really different', 'bedding changed', 'count bathroom especially shower great', 'hotel rooftop hot tub awesome view', 'quiet', 'room small', 'drape could fit window', 'not comfortable', 'facility great', 'one bed room always sit bed', 'could convenient outlet', 'exercise room closest floor filled big screen tv sheet covering', 'bit tight make people either pay leave yr room', 'shower intense', 'bed comfortable room minimalist', 'room sound proof hallway sound', 'cool design', 'room spacious especially nyc', 'main lobby nice', 'carpet coming unstitched', 'bigger nice', 'room not cleaned even stay', 'room not ordered prepaid', 'room needed painted', 'sep room room small shower pressure good', 'large manhattan good sized bed flat screen tv ample closet', 'name', 'waited minute use shower', 'lift worked', 'elevator tend slow', 'crumb snack not cleaned day', 'bathroom little dirty hair wall', 'requested two queen bed got room queen twin advised not room could put bed together issue far sleeping', 'noisy noisy suite th floor', 'way lock door']\n"
     ]
    }
   ],
   "source": [
    "print(corpus)"
   ]
  },
  {
   "source": [
    "## Data preprocessing"
   ],
   "cell_type": "markdown",
   "metadata": {}
  },
  {
   "cell_type": "code",
   "execution_count": 6,
   "metadata": {},
   "outputs": [],
   "source": [
    "from sklearn.feature_extraction.text import CountVectorizer\n",
    "cv = CountVectorizer()\n",
    "X = cv.fit_transform(corpus).toarray()\n",
    "y = dataset.iloc[:, -1].values"
   ]
  },
  {
   "cell_type": "code",
   "execution_count": 7,
   "metadata": {},
   "outputs": [
    {
     "output_type": "stream",
     "name": "stdout",
     "text": [
      "527\n"
     ]
    }
   ],
   "source": [
    "print(len(X[0]))"
   ]
  },
  {
   "cell_type": "code",
   "execution_count": 8,
   "metadata": {},
   "outputs": [
    {
     "output_type": "stream",
     "name": "stdout",
     "text": [
      "[0 0 1 0 0 1 0 1 1 0 0 1 0 0 0 0 0 0 0 0 0 0 0 0 1 0 0 1 0 0 0 0 1 1 0 0 0\n 0 0 1 1 0 0 0 0 1 0 0 0 0 0 0 0 0 1 0 0 1 0 0 0 0 1 0 0 0 0 0 0 1 0 1 0 1\n 0 0 0 1 0 1 0 1 1 0 0 0 0 1 0 0 0 1 0 0 0 0 0 0 1 0 1 1 0 0 0 0 1 0 0 0 0\n 0 1 0 1 1 0 0 0 0 0 1 0 0 0 1 0 0 0 1 0 1 1 1 0 1 1 1 0 1 1 1 1 1 0 1 0 0\n 0 0 0 0 0 1 0 0 1 0 0 0 0 0 1 1 0 0 0 1 0 0 0 1 1 0 1 1 1 0 0 1 1 0 0 0 0\n 1 1 0 1 1 1 0 0 0 0 0 0 1 0 0 1 0 0 0 0 0 0]\n"
     ]
    }
   ],
   "source": [
    "from sklearn.preprocessing import LabelBinarizer \n",
    "\n",
    "new_y=[] \n",
    "for el in y: \n",
    "    if el=='negative': \n",
    "        new_y.append(0)\n",
    "    else: \n",
    "        new_y.append(1)\n",
    "y=np.array(new_y)\n",
    "print(y)"
   ]
  },
  {
   "source": [
    "## Splitting into Training and Test set"
   ],
   "cell_type": "markdown",
   "metadata": {}
  },
  {
   "cell_type": "code",
   "execution_count": 9,
   "metadata": {},
   "outputs": [],
   "source": [
    "from sklearn.model_selection import train_test_split\n",
    "X_train, X_test, y_train, y_test = train_test_split(X, y, test_size = 0.2, random_state = 0)"
   ]
  },
  {
   "source": [
    "## Building an ANN"
   ],
   "cell_type": "markdown",
   "metadata": {}
  },
  {
   "cell_type": "code",
   "execution_count": 10,
   "metadata": {},
   "outputs": [],
   "source": [
    "import tensorflow as tf"
   ]
  },
  {
   "source": [
    "### Initializing"
   ],
   "cell_type": "markdown",
   "metadata": {}
  },
  {
   "cell_type": "code",
   "execution_count": 11,
   "metadata": {},
   "outputs": [],
   "source": [
    "ann = tf.keras.models.Sequential()"
   ]
  },
  {
   "source": [
    "### Adding the first hidden layer"
   ],
   "cell_type": "markdown",
   "metadata": {}
  },
  {
   "cell_type": "code",
   "execution_count": 12,
   "metadata": {},
   "outputs": [],
   "source": [
    "ann.add(tf.keras.layers.Dense(units=60, activation='relu'))"
   ]
  },
  {
   "source": [
    "### Adding the second hidden layer"
   ],
   "cell_type": "markdown",
   "metadata": {}
  },
  {
   "cell_type": "code",
   "execution_count": 13,
   "metadata": {},
   "outputs": [],
   "source": [
    "ann.add(tf.keras.layers.Dense(units=60, activation='relu'))"
   ]
  },
  {
   "source": [
    "### The output layer"
   ],
   "cell_type": "markdown",
   "metadata": {}
  },
  {
   "cell_type": "code",
   "execution_count": 14,
   "metadata": {},
   "outputs": [],
   "source": [
    "ann.add(tf.keras.layers.Dense(units=1, activation='sigmoid'))"
   ]
  },
  {
   "source": [
    "## Training the ANN"
   ],
   "cell_type": "markdown",
   "metadata": {}
  },
  {
   "source": [
    "### Compiling"
   ],
   "cell_type": "markdown",
   "metadata": {}
  },
  {
   "cell_type": "code",
   "execution_count": 15,
   "metadata": {},
   "outputs": [],
   "source": [
    "ann.compile(optimizer = 'adam', loss = 'binary_crossentropy', metrics = ['accuracy'])"
   ]
  },
  {
   "cell_type": "code",
   "execution_count": 16,
   "metadata": {},
   "outputs": [
    {
     "output_type": "stream",
     "name": "stdout",
     "text": [
      "Epoch 1/15\n",
      "6/6 [==============================] - 1s 2ms/step - loss: 0.6856 - accuracy: 0.5636\n",
      "Epoch 2/15\n",
      "6/6 [==============================] - 0s 2ms/step - loss: 0.6510 - accuracy: 0.6848\n",
      "Epoch 3/15\n",
      "6/6 [==============================] - 0s 2ms/step - loss: 0.6212 - accuracy: 0.6788\n",
      "Epoch 4/15\n",
      "6/6 [==============================] - 0s 2ms/step - loss: 0.5915 - accuracy: 0.6788\n",
      "Epoch 5/15\n",
      "6/6 [==============================] - 0s 2ms/step - loss: 0.5606 - accuracy: 0.6788\n",
      "Epoch 6/15\n",
      "6/6 [==============================] - 0s 2ms/step - loss: 0.5303 - accuracy: 0.6788\n",
      "Epoch 7/15\n",
      "6/6 [==============================] - 0s 2ms/step - loss: 0.4942 - accuracy: 0.6788\n",
      "Epoch 8/15\n",
      "6/6 [==============================] - 0s 2ms/step - loss: 0.4581 - accuracy: 0.7030\n",
      "Epoch 9/15\n",
      "6/6 [==============================] - 0s 2ms/step - loss: 0.4191 - accuracy: 0.7212\n",
      "Epoch 10/15\n",
      "6/6 [==============================] - 0s 3ms/step - loss: 0.3774 - accuracy: 0.7818\n",
      "Epoch 11/15\n",
      "6/6 [==============================] - 0s 2ms/step - loss: 0.3331 - accuracy: 0.8606\n",
      "Epoch 12/15\n",
      "6/6 [==============================] - 0s 2ms/step - loss: 0.2870 - accuracy: 0.8909\n",
      "Epoch 13/15\n",
      "6/6 [==============================] - 0s 3ms/step - loss: 0.2440 - accuracy: 0.9697\n",
      "Epoch 14/15\n",
      "6/6 [==============================] - 0s 2ms/step - loss: 0.2020 - accuracy: 0.9879\n",
      "Epoch 15/15\n",
      "6/6 [==============================] - 0s 2ms/step - loss: 0.1645 - accuracy: 0.9939\n"
     ]
    },
    {
     "output_type": "execute_result",
     "data": {
      "text/plain": [
       "<tensorflow.python.keras.callbacks.History at 0x1ea94925400>"
      ]
     },
     "metadata": {},
     "execution_count": 16
    }
   ],
   "source": [
    "ann.fit(X_train, y_train, batch_size = 32, epochs = 15)"
   ]
  },
  {
   "cell_type": "code",
   "execution_count": 17,
   "metadata": {},
   "outputs": [],
   "source": [
    "y_pred = ann.predict(X_test)\n",
    "y_pred_labels = []\n",
    "\n",
    "for el in y_pred: \n",
    "    if el >0.5: \n",
    "        y_pred_labels.append(1)\n",
    "    else:\n",
    "        y_pred_labels.append(0)\n"
   ]
  },
  {
   "source": [
    "## Confusion Matrix"
   ],
   "cell_type": "markdown",
   "metadata": {}
  },
  {
   "cell_type": "code",
   "execution_count": 18,
   "metadata": {},
   "outputs": [
    {
     "output_type": "stream",
     "name": "stdout",
     "text": [
      "[[29  9]\n [ 1  3]]\n"
     ]
    },
    {
     "output_type": "execute_result",
     "data": {
      "text/plain": [
       "0.7619047619047619"
      ]
     },
     "metadata": {},
     "execution_count": 18
    }
   ],
   "source": [
    "from sklearn.metrics import confusion_matrix, accuracy_score\n",
    "cm = confusion_matrix(y_pred_labels, y_test)\n",
    "print(cm)\n",
    "accuracy_score(y_pred_labels, y_test)"
   ]
  }
 ]
}